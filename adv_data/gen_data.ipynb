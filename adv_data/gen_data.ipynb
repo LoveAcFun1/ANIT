{
 "cells": [
  {
   "cell_type": "code",
   "execution_count": 1,
   "metadata": {},
   "outputs": [],
   "source": [
    "%load_ext autoreload\n",
    "%autoreload 2"
   ]
  },
  {
   "cell_type": "code",
   "execution_count": 2,
   "metadata": {},
   "outputs": [],
   "source": [
    "from dataprocessor import DataProcessor"
   ]
  },
  {
   "cell_type": "code",
   "execution_count": 3,
   "metadata": {},
   "outputs": [
    {
     "name": "stderr",
     "output_type": "stream",
     "text": [
      "100%|██████████| 14041/14041 [00:14<00:00, 958.18it/s]\n"
     ]
    }
   ],
   "source": [
    "##conllo3\n",
    "p = DataProcessor(save_path='/home/baishengyuan/project/noise_llm/code/tmp_data/train.json')\n",
    "p.set_datapath(p.datasetpath_dict['conll03']['train'])\n",
    "p.conll03(p.ner_instructions('short'), 'random_context_pad', 0.5)"
   ]
  },
  {
   "cell_type": "code",
   "execution_count": 4,
   "metadata": {},
   "outputs": [
    {
     "name": "stderr",
     "output_type": "stream",
     "text": [
      "100%|██████████| 3453/3453 [00:03<00:00, 947.88it/s]\n"
     ]
    }
   ],
   "source": [
    "##conllo3\n",
    "p = DataProcessor(save_path='/home/baishengyuan/project/noise_llm/code/tmp_data/test.json')\n",
    "p.set_datapath(p.datasetpath_dict['conll03']['test'])\n",
    "p.conll03(p.ner_instructions('short'), 'random_context_pad', 0.5)"
   ]
  },
  {
   "cell_type": "code",
   "execution_count": 5,
   "metadata": {},
   "outputs": [
    {
     "name": "stderr",
     "output_type": "stream",
     "text": [
      "  3%|▎         | 404/14041 [00:00<00:06, 2016.56it/s]"
     ]
    },
    {
     "name": "stderr",
     "output_type": "stream",
     "text": [
      "100%|██████████| 14041/14041 [00:07<00:00, 1961.68it/s]\n"
     ]
    }
   ],
   "source": [
    "##conllo3\n",
    "p = DataProcessor(save_path='/home/baishengyuan/project/noise_llm/code/tmp_data/train.json')\n",
    "p.set_datapath(p.datasetpath_dict['conll03']['train'])\n",
    "p.conll03(p.ner_instructions('short'), 'icl_pad', 0.5)"
   ]
  },
  {
   "cell_type": "code",
   "execution_count": 6,
   "metadata": {},
   "outputs": [
    {
     "name": "stderr",
     "output_type": "stream",
     "text": [
      "100%|██████████| 3453/3453 [00:01<00:00, 1980.90it/s]\n"
     ]
    }
   ],
   "source": [
    "##conllo3\n",
    "p = DataProcessor(save_path='/home/baishengyuan/project/noise_llm/code/tmp_data/test.json')\n",
    "p.set_datapath(p.datasetpath_dict['conll03']['test'])\n",
    "p.conll03(p.ner_instructions('short'), 'icl_pad', 0.5)"
   ]
  },
  {
   "cell_type": "code",
   "execution_count": null,
   "metadata": {},
   "outputs": [],
   "source": [
    "## conll03 random replace 0.2\n",
    "p = DataProcessor(\n",
    "    \"/cto_labs/baishengyuan/noise_llm_data/NER/CoNLL2003/train.json\",\n",
    "    \"/home/baishengyuan/project/noise_llm/code/adv_data/train.json\",\n",
    ")\n",
    "instruction_list = [\n",
    "    \"Here is a task on named entity recognition, give the correct answer followed the input.\"\n",
    "]\n",
    "p.conll03(instruction_list, \"random_replace\", 0.2)\n",
    "\n",
    "p = DataProcessor(\n",
    "    \"/cto_labs/baishengyuan/noise_llm_data/NER/CoNLL2003/test.json\",\n",
    "    \"/home/baishengyuan/project/noise_llm/code/adv_data/test.json\",\n",
    ")\n",
    "instruction_list = [\n",
    "    \"Here is a task on named entity recognition, give the correct answer followed the input.\"\n",
    "]\n",
    "p.conll03(instruction_list, \"random_replace\", 0.2)\n"
   ]
  },
  {
   "cell_type": "code",
   "execution_count": null,
   "metadata": {},
   "outputs": [],
   "source": [
    "## conll03 random replace 0.2\n",
    "p = DataProcessor(\n",
    "    \"/cto_labs/baishengyuan/noise_llm_data/NER/CoNLL2003/train.json\",\n",
    "    \"/home/baishengyuan/project/noise_llm/code/adv_data/train.json\",\n",
    ")\n",
    "instruction_list = [\n",
    "    \"Here is a task on named entity recognition, give the correct answer followed the input.\"\n",
    "]\n",
    "p.conll03(instruction_list, \"random_truncation\", 0.5)\n",
    "\n",
    "p = DataProcessor(\n",
    "    \"/cto_labs/baishengyuan/noise_llm_data/NER/CoNLL2003/test.json\",\n",
    "    \"/home/baishengyuan/project/noise_llm/code/adv_data/test.json\",\n",
    ")\n",
    "instruction_list = [\n",
    "    \"Here is a task on named entity recognition, give the correct answer followed the input.\"\n",
    "]\n",
    "p.conll03(instruction_list, \"random_truncation\", 0.5)"
   ]
  },
  {
   "cell_type": "code",
   "execution_count": null,
   "metadata": {},
   "outputs": [],
   "source": [
    "!mv /home/baishengyuan/project/noise_llm/code/adv_data/test.json /cto_labs/baishengyuan/adv_data/NER/conll03/random_replace_0.2_ins1\n",
    "!mv /home/baishengyuan/project/noise_llm/code/adv_data/test.json /cto_labs/baishengyuan/adv_data/NER/conll03/random_replace_0.2_ins1"
   ]
  },
  {
   "cell_type": "code",
   "execution_count": null,
   "metadata": {},
   "outputs": [],
   "source": [
    "## ontonotes5\n",
    "p = DataProcessor(\n",
    "    \"/cto_labs/baishengyuan/noise_llm_data/NER/Ontonotes/train.json\",\n",
    "    \"/home/baishengyuan/project/noise_llm/code/adv_data/train.json\",\n",
    ")\n",
    "instruction_list = [\n",
    "    \"Here is a task on named entity recognition, give the correct answer followed the input.\"\n",
    "]\n",
    "p.ontonotes(instruction_list, \"random_replace\", 0.2)\n",
    "\n",
    "p = DataProcessor(\n",
    "    \"/cto_labs/baishengyuan/noise_llm_data/NER/Ontonotes/test.json\",\n",
    "    \"/home/baishengyuan/project/noise_llm/code/adv_data/test.json\",\n",
    ")\n",
    "instruction_list = [\n",
    "    \"Here is a task on named entity recognition, give the correct answer followed the input.\"\n",
    "]\n",
    "p.ontonotes(instruction_list, \"random_replace\", 0.2)"
   ]
  },
  {
   "cell_type": "code",
   "execution_count": null,
   "metadata": {},
   "outputs": [],
   "source": [
    "!mv /home/baishengyuan/project/noise_llm/code/adv_data/train.json /cto_labs/baishengyuan/adv_data/NER/ontonotes/random_replace_0.2_ins1\n",
    "!mv /home/baishengyuan/project/noise_llm/code/adv_data/test.json /cto_labs/baishengyuan/adv_data/NER/ontonotes/random_replace_0.2_ins1"
   ]
  },
  {
   "cell_type": "code",
   "execution_count": null,
   "metadata": {},
   "outputs": [],
   "source": [
    "## bc4chemd\n",
    "p = DataProcessor(\n",
    "    \"/cto_labs/baishengyuan/noise_llm_data/NER/bc4chemd/train.json\",\n",
    "    \"/home/baishengyuan/project/noise_llm/code/adv_data/train.json\",\n",
    ")\n",
    "instruction_list = [\n",
    "    \"Here is a task on named entity recognition, give the correct answer followed the input.\"\n",
    "]\n",
    "p.bc4chemd(instruction_list, \"random_replace\", 0.2)\n",
    "\n",
    "p = DataProcessor(\n",
    "    \"/cto_labs/baishengyuan/noise_llm_data/NER/bc4chemd/test.json\",\n",
    "    \"/home/baishengyuan/project/noise_llm/code/adv_data/test.json\",\n",
    ")\n",
    "instruction_list = [\n",
    "    \"Here is a task on named entity recognition, give the correct answer followed the input.\"\n",
    "]\n",
    "p.bc4chemd(instruction_list, \"random_replace\", 0.2)"
   ]
  },
  {
   "cell_type": "code",
   "execution_count": null,
   "metadata": {},
   "outputs": [],
   "source": [
    "!mv /home/baishengyuan/project/noise_llm/code/adv_data/train.json /cto_labs/baishengyuan/adv_data/NER/bc4chemd/random_replace_0.2_ins1\n",
    "!mv /home/baishengyuan/project/noise_llm/code/adv_data/test.json /cto_labs/baishengyuan/adv_data/NER/bc4chemd/random_replace_0.2_ins1"
   ]
  },
  {
   "cell_type": "code",
   "execution_count": null,
   "metadata": {},
   "outputs": [],
   "source": [
    "import json\n",
    "import os\n",
    "\n",
    "with open('/cto_labs/baishengyuan/noise_llm_data/ABSA/14lap/train.json', 'r') as f:\n",
    "    lap14 = json.loads(f.read())\n",
    "with open('/cto_labs/baishengyuan/noise_llm_data/ABSA/14res/train.json', 'r') as f:\n",
    "    res14 = json.loads(f.read())\n",
    "with open('/cto_labs/baishengyuan/noise_llm_data/ABSA/16res/train.json', 'r') as f:\n",
    "    res16 = json.loads(f.read())\n",
    "test_fusion = lap14 + res14 + res16\n",
    "print(len(test_fusion))\n",
    "with open('/cto_labs/baishengyuan/noise_llm_data/ABSA/14lapres_16res/train.json', 'w') as f:\n",
    "    f.write(json.dumps(test_fusion))"
   ]
  },
  {
   "cell_type": "code",
   "execution_count": null,
   "metadata": {},
   "outputs": [],
   "source": [
    "import json\n",
    "import os\n",
    "\n",
    "with open('/cto_labs/baishengyuan/noise_llm_data/ABSA/14lap/test.json', 'r') as f:\n",
    "    lap14 = json.loads(f.read())\n",
    "with open('/cto_labs/baishengyuan/noise_llm_data/ABSA/14res/test.json', 'r') as f:\n",
    "    res14 = json.loads(f.read())\n",
    "with open('/cto_labs/baishengyuan/noise_llm_data/ABSA/16res/test.json', 'r') as f:\n",
    "    res16 = json.loads(f.read())\n",
    "test_fusion = lap14 + res14 + res16\n",
    "print(len(test_fusion))\n",
    "with open('/cto_labs/baishengyuan/noise_llm_data/ABSA/14lapres_16res/test.json', 'w') as f:\n",
    "    f.write(json.dumps(test_fusion))"
   ]
  },
  {
   "cell_type": "code",
   "execution_count": null,
   "metadata": {},
   "outputs": [],
   "source": [
    "## 14lapres_16res\n",
    "p = DataProcessor(\n",
    "    \"/cto_labs/baishengyuan/noise_llm_data/ABSA/14lapres_16res/train.json\",\n",
    "    \"/home/baishengyuan/project/noise_llm/code/adv_data/train.json\",\n",
    ")\n",
    "instruction_list = [\n",
    "    \"Here is a task on named entity recognition, give the correct answer followed the input.\"\n",
    "]\n",
    "p.lapres14_res16(instruction_list, \"random_replace\", 0.2)\n",
    "\n",
    "p = DataProcessor(\n",
    "    \"/cto_labs/baishengyuan/noise_llm_data/ABSA/14lapres_16res/test.json\",\n",
    "    \"/home/baishengyuan/project/noise_llm/code/adv_data/test.json\",\n",
    ")\n",
    "instruction_list = [\n",
    "    \"Here is a task on aspect-based sentiment analysis, give the correct answer followed the input.\"\n",
    "]\n",
    "p.lapres14_res16(instruction_list, \"random_replace\", 0.2)"
   ]
  },
  {
   "cell_type": "code",
   "execution_count": null,
   "metadata": {},
   "outputs": [],
   "source": [
    "!mv /home/baishengyuan/project/noise_llm/code/adv_data/train.json /cto_labs/baishengyuan/adv_data/ABSA/14lapres_16res/random_replace_0.2_ins1\n",
    "!mv /home/baishengyuan/project/noise_llm/code/adv_data/test.json /cto_labs/baishengyuan/adv_data/ABSA/14lapres_16res/random_replace_0.2_ins1"
   ]
  },
  {
   "cell_type": "code",
   "execution_count": 4,
   "metadata": {},
   "outputs": [
    {
     "name": "stderr",
     "output_type": "stream",
     "text": [
      "100%|██████████| 120000/120000 [01:43<00:00, 1162.76it/s]\n"
     ]
    }
   ],
   "source": [
    "## agnews\n",
    "p = DataProcessor(\n",
    "    \"/cto_labs/baishengyuan/noise_llm_data/tex_class/ag_news/train.json\",\n",
    "    \"/home/baishengyuan/project/noise_llm/code/adv_data/train.json\",\n",
    "    json_format=True\n",
    ")\n",
    "\n",
    "p.agnews(p.tc_instruction('short'), \"random_replace\", 0.2)"
   ]
  },
  {
   "cell_type": "code",
   "execution_count": 6,
   "metadata": {},
   "outputs": [
    {
     "name": "stderr",
     "output_type": "stream",
     "text": [
      "100%|██████████| 7600/7600 [00:06<00:00, 1124.93it/s]\n"
     ]
    }
   ],
   "source": [
    "## agnews\n",
    "p = DataProcessor(\n",
    "    \"/cto_labs/baishengyuan/noise_llm_data/tex_class/ag_news/test.json\",\n",
    "    \"/home/baishengyuan/project/noise_llm/code/tmp_data/test.json\",\n",
    "    json_format=True\n",
    ")\n",
    "\n",
    "p.agnews(p.tc_instruction('short'), \"random_replace\", 0.2)"
   ]
  },
  {
   "cell_type": "code",
   "execution_count": 13,
   "metadata": {},
   "outputs": [
    {
     "name": "stderr",
     "output_type": "stream",
     "text": [
      "100%|██████████| 67349/67349 [00:58<00:00, 1142.42it/s]\n"
     ]
    }
   ],
   "source": [
    "# sst2\n",
    "p = DataProcessor(\n",
    "    \"/cto_labs/baishengyuan/noise_llm_data/tex_class/sst2/train.json\",\n",
    "    \"/home/baishengyuan/project/noise_llm/code/tmp_data/train.json\",\n",
    "    json_format=True\n",
    ")\n",
    "\n",
    "p.sst2(p.tc_instruction('short'), \"random_replace\", 0.2)"
   ]
  },
  {
   "cell_type": "code",
   "execution_count": 14,
   "metadata": {},
   "outputs": [
    {
     "name": "stderr",
     "output_type": "stream",
     "text": [
      "100%|██████████| 872/872 [00:00<00:00, 1060.45it/s]\n"
     ]
    }
   ],
   "source": [
    "# sst2\n",
    "p = DataProcessor(\n",
    "    \"/cto_labs/baishengyuan/noise_llm_data/tex_class/sst2/dev.json\",\n",
    "    \"/home/baishengyuan/project/noise_llm/code/tmp_data/test.json\",\n",
    "    json_format=True\n",
    ")\n",
    "\n",
    "p.sst2(p.tc_instruction('short'), \"random_replace\", 0.2)"
   ]
  },
  {
   "cell_type": "code",
   "execution_count": 10,
   "metadata": {},
   "outputs": [
    {
     "name": "stderr",
     "output_type": "stream",
     "text": [
      "100%|██████████| 8544/8544 [00:07<00:00, 1173.46it/s]\n"
     ]
    }
   ],
   "source": [
    "# sst5\n",
    "p = DataProcessor(\n",
    "    \"/cto_labs/baishengyuan/noise_llm_data/tex_class/sst5/train.json\",\n",
    "    \"/home/baishengyuan/project/noise_llm/code/tmp_data/train.json\",\n",
    "    json_format=True\n",
    ")\n",
    "\n",
    "p.sst5(p.tc_instruction('short'), \"random_replace\", 0.2)"
   ]
  },
  {
   "cell_type": "code",
   "execution_count": 11,
   "metadata": {},
   "outputs": [
    {
     "name": "stderr",
     "output_type": "stream",
     "text": [
      "100%|██████████| 2210/2210 [00:01<00:00, 1155.07it/s]\n"
     ]
    }
   ],
   "source": [
    "# sst5\n",
    "p = DataProcessor(\n",
    "    \"/cto_labs/baishengyuan/noise_llm_data/tex_class/sst5/test.json\",\n",
    "    \"/home/baishengyuan/project/noise_llm/code/tmp_data/test.json\",\n",
    "    json_format=True\n",
    ")\n",
    "\n",
    "p.sst5(p.tc_instruction('short'), \"random_replace\", 0.2)"
   ]
  }
 ],
 "metadata": {
  "kernelspec": {
   "display_name": "nllm",
   "language": "python",
   "name": "python3"
  },
  "language_info": {
   "codemirror_mode": {
    "name": "ipython",
    "version": 3
   },
   "file_extension": ".py",
   "mimetype": "text/x-python",
   "name": "python",
   "nbconvert_exporter": "python",
   "pygments_lexer": "ipython3",
   "version": "3.10.0"
  }
 },
 "nbformat": 4,
 "nbformat_minor": 2
}
